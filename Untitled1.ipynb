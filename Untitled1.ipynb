{
  "metadata": {
    "kernelspec": {
      "name": "",
      "display_name": ""
    },
    "language_info": {
      "name": ""
    }
  },
  "nbformat_minor": 5,
  "nbformat": 4,
  "cells": [
    {
      "id": "a18958ce-60e6-444d-9a99-034f41ff9d45",
      "cell_type": "code",
      "source": "Heart Disease Prediction Using Machine Learning\nTask 3 – AI/ML Engineering Internship at DevelopersHub Corporation\nModel Used: Random Forest Classifier  \nDataset: Heart Disease UCI (from Kaggle)  \n",
      "metadata": {
        "trusted": true
      },
      "outputs": [],
      "execution_count": null
    },
    {
      "id": "dbe2675a-4ccf-4491-8bdf-74b27dda8567",
      "cell_type": "code",
      "source": "1. Problem Statement\n\nHeart disease is one of the leading causes of death worldwide. Early detection can significantly improve treatment outcomes. The objective of this project is to build a machine learning model that can predict whether a patient is likely to have heart disease based on various medical attributes.\n\nGoal\n\n- Understand patterns in heart-related medical features\n- Visualize important trends and distributions\n- Train and evaluate a machine learning classification model\n- Provide a clear summary of results and key insights\n",
      "metadata": {
        "trusted": true
      },
      "outputs": [],
      "execution_count": null
    },
    {
      "id": "def42933-4e77-4e71-94f4-785a416e9a44",
      "cell_type": "code",
      "source": "2. Dataset Loading and Preprocessing\n\nWe load the Heart Disease dataset, check its structure, clean it (if needed), and prepare it for model training. Preprocessing includes renaming columns, encoding categorical variables, and feature scaling.\n\nimport numpy as np\nimport pandas as pd\nimport matplotlib.pyplot as plt\nimport seaborn as sns\n\n# Load dataset\ndata = pd.read_csv('heart.csv')\nprint(\"Shape:\", data.shape)\nprint(data.head())\nprint(data.describe())\nprint(data.info())\n\n# Rename columns\ncolumn_map = {\n    'cp': 'chest_pain_type',\n    'trestbps': 'resting_blood_pressure',\n    'chol': 'cholesterol',\n    'fbs': 'fasting_blood_sugar',\n    'restecg': 'rest_ecg',\n    'thalach': 'max_heart_rate_achieved',\n    'exang': 'exercise_induced_angina',\n    'oldpeak': 'st_depression',\n    'slope': 'st_slope',\n    'ca': 'num_major_vessels',\n    'thal': 'thalassemia'\n}\ndata.rename(columns=column_map, inplace=True)\n\n# Replace categorical values\nreplace_map = {\n    'sex': {0: 'female', 1: 'male'},\n    'chest_pain_type': {1: 'typical angina', 2: 'atypical angina', 3: 'non-anginal pain', 4: 'asymptomatic'},\n    'fasting_blood_sugar': {0: 'lower than 120mg/ml', 1: 'greater than 120mg/ml'},\n    'rest_ecg': {0: 'normal', 1: 'ST-T wave abnormality', 2: 'left ventricular hypertrophy'},\n    'exercise_induced_angina': {0: 'no', 1: 'yes'},\n    'st_slope': {1: 'upsloping', 2: 'flat', 3: 'downsloping'},\n    'thalassemia': {3: 'normal', 6: 'fixed defect', 7: 'reversable defect'}\n}\ndata.replace(replace_map, inplace=True)\n\n# Convert to categorical types\nto_category = ['sex', 'chest_pain_type', 'fasting_blood_sugar', 'rest_ecg',\n               'exercise_induced_angina', 'st_slope', 'thalassemia']\ndata[to_category] = data[to_category].astype('category')\n\n# Prepare features and labels\ny = data['target']\nx = data.drop(columns='target')\nx = pd.get_dummies(x, drop_first=True)\n\n# Train-test split\nfrom sklearn.model_selection import train_test_split\nx_train, x_test, y_train, y_test = train_test_split(x, y, test_size=0.2, random_state=0)\n",
      "metadata": {
        "trusted": true
      },
      "outputs": [],
      "execution_count": null
    },
    {
      "id": "940ce5b1-9e87-439e-a57f-1c1108eddcba",
      "cell_type": "code",
      "source": "3. Data Visualization and Exploration\n\nBelow we visualize the data to uncover insights:\n- Distribution of age and gender\n- Correlation heatmap\n- Target class distribution\n- Boxplots and violin plots for key features\n\nsns.pairplot(data)\nplt.show()\n\nplt.figure(figsize=(15, 15))\nsns.heatmap(data.corr(), annot=True, cmap='coolwarm')\nplt.title(\"Correlation Heatmap\")\nplt.show()\n\nplt.figure(figsize=(10, 7))\nsns.histplot(data['age'], kde=True)\nplt.title('Distribution of Age')\nplt.show()\n\ngender_counts = data['sex'].value_counts()\nlabels = ['Male', 'Female']\nsize = [gender_counts['male'], gender_counts['female']]\ncolors = ['lightblue', 'lightgreen']\nexplode = [0, 0.01]\nmy_circle = plt.Circle((0, 0), 0.7, color='white')\n\nplt.figure(figsize=(9, 9))\nplt.pie(size, labels=labels, colors=colors, explode=explode, autopct='%.2f%%', shadow=True)\nplt.gca().add_artist(my_circle)\nplt.title('Distribution of Gender')\nplt.legend()\nplt.show()\n\nsns.countplot(x='target', data=data, palette='pastel')\nplt.title('Target Distribution')\nplt.grid()\nplt.show()\n\nsns.boxplot(x='target', y='resting_blood_pressure', data=data)\nplt.title('Resting BP vs Target')\nplt.show()\n\nsns.violinplot(x='target', y='cholesterol', data=data)\nplt.title('Cholesterol vs Target')\nplt.show()\n\ndat = pd.crosstab(data['target'], data['rest_ecg'])\ndat.div(dat.sum(1).astype(float), axis=0).plot(kind='bar', stacked=True, figsize=(10, 7))\nplt.title('ECG vs Target')\nplt.show()\n\nsns.lmplot(x='target', y='max_heart_rate_achieved', data=data)\nplt.title('Max Heart Rate vs Target')\nplt.show()\n\nsns.regplot(x='target', y='exercise_induced_angina', data=data)\nplt.title('Exercise Induced Angina vs Target')\nplt.show()\n\nsns.boxplot(x='target', y='st_slope', data=data)\nplt.title('ST Slope vs Target')\nplt.show()\n\n",
      "metadata": {
        "trusted": true
      },
      "outputs": [],
      "execution_count": null
    },
    {
      "id": "86a547c1-a54b-4c87-97df-6aed93bf4728",
      "cell_type": "code",
      "source": "4. Model Training and Evaluation\n\nWe train a Random Forest Classifier and evaluate its performance using accuracy, confusion matrix, classification report, and ROC-AUC curve.\n\nfrom sklearn.ensemble import RandomForestClassifier\nfrom sklearn.metrics import classification_report, confusion_matrix, roc_curve, auc\n\nmodel = RandomForestClassifier(n_estimators=50, max_depth=5)\nmodel.fit(x_train, y_train)\n\ny_pred = model.predict(x_test)\ny_pred_proba = model.predict_proba(x_test)[:, 1]\n\nprint(\"Training Accuracy:\", model.score(x_train, y_train))\nprint(\"Testing Accuracy:\", model.score(x_test, y_test))\n\ncm = confusion_matrix(y_test, y_pred)\nsns.heatmap(cm, annot=True, fmt='d')\nplt.title('Confusion Matrix')\nplt.show()\n\nprint(classification_report(y_test, y_pred))\n\nfpr, tpr, thresholds = roc_curve(y_test, y_pred_proba)\nroc_auc = auc(fpr, tpr)\nprint(\"AUC Score:\", roc_auc)\n\nplt.figure(figsize=(8, 6))\nplt.plot(fpr, tpr, label=f\"AUC = {roc_auc:.2f}\")\nplt.plot([0, 1], [0, 1], linestyle='--')\nplt.title('ROC Curve')\nplt.xlabel('False Positive Rate')\nplt.ylabel('True Positive Rate')\nplt.legend()\nplt.grid()\nplt.show()\n",
      "metadata": {
        "trusted": true
      },
      "outputs": [],
      "execution_count": null
    },
    {
      "id": "fe53afd6-e292-4576-8a5e-802b3dfc01c0",
      "cell_type": "code",
      "source": "5. Results and Final Insights\n\n- Best Model: Random Forest Classifier (n_estimators=50, max_depth=5)\n- Training Accuracy: XX%\n- Testing Accuracy: XX%\n- AUC Score: XX\n\nKey Observations:\n- Features like age, cholesterol, chest pain type, and thalassemia strongly correlate with heart disease.\n- The ROC curve shows a good trade-off between sensitivity and specificity.\n- The model performs well without overfitting (small train-test gap).\n\nThis model can be used for initial medical screening or as a decision-support system.\n",
      "metadata": {
        "trusted": true
      },
      "outputs": [],
      "execution_count": null
    },
    {
      "id": "7474d040-db92-4f2a-a118-07a69c9d620c",
      "cell_type": "code",
      "source": "",
      "metadata": {
        "trusted": true
      },
      "outputs": [],
      "execution_count": null
    },
    {
      "id": "11c3063f-e46c-4cb2-9d3b-5fce343b6251",
      "cell_type": "code",
      "source": "",
      "metadata": {
        "trusted": true
      },
      "outputs": [],
      "execution_count": null
    }
  ]
}